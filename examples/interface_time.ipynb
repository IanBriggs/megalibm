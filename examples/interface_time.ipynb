{
 "cells": [
  {
   "cell_type": "code",
   "execution_count": 1,
   "metadata": {},
   "outputs": [],
   "source": [
    "import os\n",
    "import os.path as path\n",
    "import sys\n",
    "\n",
    "EXAMPLE_DIR = path.abspath(\"\")\n",
    "GIT_DIR = path.split(EXAMPLE_DIR)[0]\n",
    "SRC_DIR = path.join(GIT_DIR, \"src\")\n",
    "sys.path.append(SRC_DIR)"
   ]
  },
  {
   "cell_type": "code",
   "execution_count": 2,
   "metadata": {},
   "outputs": [],
   "source": [
    "import fpcore\n",
    "import lambdas\n",
    "\n",
    "import matplotlib.pyplot as plt\n",
    "\n",
    "from interval import Interval\n",
    "from lambdas import *\n",
    "from plot_lambda import plot_lambda\n",
    "from compare_plot_lambda import compare_plot_lambda\n",
    "from time_lambda import time_lambda"
   ]
  },
  {
   "cell_type": "code",
   "execution_count": 3,
   "metadata": {},
   "outputs": [],
   "source": [
    "from fpcore.interface import *\n",
    "x = var(\"x\")\n",
    "dom = Interval(\"(- (/ PI 2))\", \"(/ PI 2)\")\n",
    "samples = 1 << 17\n",
    "iters = 100"
   ]
  },
  {
   "cell_type": "code",
   "execution_count": 4,
   "metadata": {},
   "outputs": [],
   "source": [
    "add_horner_sin = \\\n",
    "    Add(\n",
    "        x,\n",
    "        Horner(\n",
    "            MinimaxPolynomial(\n",
    "                make_function([x], sin(x) - x),\n",
    "                dom,\n",
    "                11\n",
    "            )))\n",
    "# time_lambda(dom, add_horner_sin, \"fix first coefficient Horner\", samples, iters)"
   ]
  },
  {
   "cell_type": "code",
   "execution_count": 5,
   "metadata": {},
   "outputs": [],
   "source": [
    "add_estrin_sin = \\\n",
    "    Add(\n",
    "        x,\n",
    "        Estrin(\n",
    "            MinimaxPolynomial(\n",
    "                make_function([x], sin(x) - x),\n",
    "                dom,\n",
    "                11\n",
    "            )))\n",
    "# time_lambda(dom, add_estrin_sin, \"fix first coefficient Horner\", samples, iters)"
   ]
  },
  {
   "cell_type": "code",
   "execution_count": 6,
   "metadata": {},
   "outputs": [
    {
     "name": "stdout",
     "output_type": "stream",
     "text": [
      "2023-06-23 19:15:01.278563 add: type_check: In function: (FPCore (x)  (- (sin x) x))\n",
      "2023-06-23 19:15:01.386798 add: type_check: Out function: (FPCore  (x)  (sin x))\n",
      "2023-06-23 19:15:05.648661 add: type_check: In function: (FPCore (x)  (- (sin x) x))\n",
      "2023-06-23 19:15:05.753498 add: type_check: Out function: (FPCore  (x)  (sin x))\n",
      "[7.23907470703125, 7.322845458984375]\n"
     ]
    },
    {
     "data": {
      "text/plain": [
       "<BarContainer object of 2 artists>"
      ]
     },
     "execution_count": 6,
     "metadata": {},
     "output_type": "execute_result"
    },
    {
     "data": {
      "image/png": "[encoded data removed]",
      "text/plain": [
       "<Figure size 640x480 with 1 Axes>"
      ]
     },
     "metadata": {},
     "output_type": "display_data"
    }
   ],
   "source": [
    "lambdas = [\"horner\", \"estrin\"]\n",
    "times = [time_lambda(dom, add_horner_sin, \"fix first coefficient Horner\", samples, iters), time_lambda(dom, add_estrin_sin, \"fix first coefficient Horner\", samples, iters)]\n",
    "\n",
    "print(times)\n",
    "\n",
    "fig, ax = plt.subplots()\n",
    "\n",
    "# tick_positions = [i/10 for i in range(int(max(times)*10)+2)]\n",
    "# ax.set_yticks(tick_positions)\n",
    "# ax.set_yticklabels(tick_positions)\n",
    "# ax.margins(x=0)\n",
    "ax.set_ylabel(\"Avg cpu time\")\n",
    "ax.set_xlabel(\"Lambda\")\n",
    "ax.bar(lambdas, times, width=0.2)\n"
   ]
  },
  {
   "cell_type": "code",
   "execution_count": null,
   "metadata": {},
   "outputs": [],
   "source": []
  },
  {
   "cell_type": "code",
   "execution_count": null,
   "metadata": {},
   "outputs": [],
   "source": []
  }
 ],
 "metadata": {
  "kernelspec": {
   "display_name": "mlibm",
   "language": "python",
   "name": "python3"
  },
  "language_info": {
   "codemirror_mode": {
    "name": "ipython",
    "version": 3
   },
   "file_extension": ".py",
   "mimetype": "text/x-python",
   "name": "python",
   "nbconvert_exporter": "python",
   "pygments_lexer": "ipython3",
   "version": "3.10.9"
  },
  "orig_nbformat": 4
 },
 "nbformat": 4,
 "nbformat_minor": 2
}
